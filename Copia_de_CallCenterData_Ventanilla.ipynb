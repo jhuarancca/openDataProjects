{
  "nbformat": 4,
  "nbformat_minor": 0,
  "metadata": {
    "colab": {
      "provenance": [],
      "authorship_tag": "ABX9TyMEYLzmX9xJO52jHiNAuwDI",
      "include_colab_link": true
    },
    "kernelspec": {
      "name": "python3",
      "display_name": "Python 3"
    },
    "language_info": {
      "name": "python"
    }
  },
  "cells": [
    {
      "cell_type": "markdown",
      "metadata": {
        "id": "view-in-github",
        "colab_type": "text"
      },
      "source": [
        "<a href=\"https://colab.research.google.com/github/jhuarancca/openDataProjects/blob/main/Copia_de_CallCenterData_Ventanilla.ipynb\" target=\"_parent\"><img src=\"https://colab.research.google.com/assets/colab-badge.svg\" alt=\"Open In Colab\"/></a>"
      ]
    },
    {
      "cell_type": "code",
      "execution_count": null,
      "metadata": {
        "colab": {
          "base_uri": "https://localhost:8080/",
          "height": 456
        },
        "id": "HnzlYmJSR43d",
        "outputId": "8578d46c-b7de-45d7-c8f5-55f7ab07176e"
      },
      "outputs": [
        {
          "output_type": "execute_result",
          "data": {
            "text/plain": [
              "   IDABOMENSAJE  TXNOMBRE  NUMERO_CASO     CENTRAL  \\\n",
              "0        805249  REGMAN01       777597  EMERGENCIA   \n",
              "1        805250  REGMAN01       777598  EMERGENCIA   \n",
              "2        805251  REGMAN01       777599  EMERGENCIA   \n",
              "3        805252  REGMAN01       777600  EMERGENCIA   \n",
              "4        805253  REGMAN01       777601  EMERGENCIA   \n",
              "\n",
              "                            UNIDAD PATRU_INTE AREACIERRE  \\\n",
              "0  SERENAZGO ESPECIALISTA (CHOFER)         NO  SERENAZGO   \n",
              "1  SERENAZGO ESPECIALISTA (CHOFER)         NO  SERENAZGO   \n",
              "2                  SERENAZGO A PIE         NO  SERENAZGO   \n",
              "3  SERENAZGO ESPECIALISTA (CHOFER)         NO  SERENAZGO   \n",
              "4  SERENAZGO ESPECIALISTA (CHOFER)         NO  SERENAZGO   \n",
              "\n",
              "                         TIPOCASO                SUBTIPOCASO  \\\n",
              "0                      ACCIDENTES  ACCIDENTES POR OCURRENCIA   \n",
              "1  APOYO DIVERSO AL CONTRIBUYENTE     PERSONAS DESAPARECIDAS   \n",
              "2                     DISPERSADOS    CONSUMIDORES DE ALCOHOL   \n",
              "3                      ACCIDENTES  ACCIDENTES POR OCURRENCIA   \n",
              "4                         DELITOS       CONTRA EL PATRIMONIO   \n",
              "\n",
              "          ESTADOCASO  ...   LATITUDE  LONGITUDE        COMISARIA  \\\n",
              "0  AMAGO DE INCENDIO  ... -11.978916 -77.020282  VILLA LOS REYES   \n",
              "1           UBICADOS  ... -11.834015 -77.125754  VILLA LOS REYES   \n",
              "2                NaN  ... -11.887520 -77.126196       VENTANILLA   \n",
              "3           INCENDIO  ... -11.893748 -77.127466       VENTANILLA   \n",
              "4               ROBO  ... -11.834120 -77.164783       PACHACUTEC   \n",
              "\n",
              "                  REFERENCIA   ESTADO DEPARTAMENTO  PROVINCIA    DISTRITO  \\\n",
              "0                     PARQUE  CERRADA       CALLAO     CALLAO  VENTANILLA   \n",
              "1  Mercado El Tr&eacute;bol   CERRADA       CALLAO     CALLAO  VENTANILLA   \n",
              "2             Boulevard Grau  CERRADA       CALLAO     CALLAO  VENTANILLA   \n",
              "3            Mza. J16 lote 3  CERRADA       CALLAO     CALLAO  VENTANILLA   \n",
              "4   av. 225  paradero reniec  CERRADA       CALLAO     CALLAO  VENTANILLA   \n",
              "\n",
              "         UBIGEO FECHA_CORTE  \n",
              "0    -11.978916  20220630.0  \n",
              "1  70106.000000  20220630.0  \n",
              "2  70106.000000  20220630.0  \n",
              "3  70106.000000  20220630.0  \n",
              "4  70106.000000  20220630.0  \n",
              "\n",
              "[5 rows x 39 columns]"
            ],
            "text/html": [
              "\n",
              "  <div id=\"df-900d5cbb-6e40-4837-b387-dd7372c077b4\">\n",
              "    <div class=\"colab-df-container\">\n",
              "      <div>\n",
              "<style scoped>\n",
              "    .dataframe tbody tr th:only-of-type {\n",
              "        vertical-align: middle;\n",
              "    }\n",
              "\n",
              "    .dataframe tbody tr th {\n",
              "        vertical-align: top;\n",
              "    }\n",
              "\n",
              "    .dataframe thead th {\n",
              "        text-align: right;\n",
              "    }\n",
              "</style>\n",
              "<table border=\"1\" class=\"dataframe\">\n",
              "  <thead>\n",
              "    <tr style=\"text-align: right;\">\n",
              "      <th></th>\n",
              "      <th>IDABOMENSAJE</th>\n",
              "      <th>TXNOMBRE</th>\n",
              "      <th>NUMERO_CASO</th>\n",
              "      <th>CENTRAL</th>\n",
              "      <th>UNIDAD</th>\n",
              "      <th>PATRU_INTE</th>\n",
              "      <th>AREACIERRE</th>\n",
              "      <th>TIPOCASO</th>\n",
              "      <th>SUBTIPOCASO</th>\n",
              "      <th>ESTADOCASO</th>\n",
              "      <th>...</th>\n",
              "      <th>LATITUDE</th>\n",
              "      <th>LONGITUDE</th>\n",
              "      <th>COMISARIA</th>\n",
              "      <th>REFERENCIA</th>\n",
              "      <th>ESTADO</th>\n",
              "      <th>DEPARTAMENTO</th>\n",
              "      <th>PROVINCIA</th>\n",
              "      <th>DISTRITO</th>\n",
              "      <th>UBIGEO</th>\n",
              "      <th>FECHA_CORTE</th>\n",
              "    </tr>\n",
              "  </thead>\n",
              "  <tbody>\n",
              "    <tr>\n",
              "      <th>0</th>\n",
              "      <td>805249</td>\n",
              "      <td>REGMAN01</td>\n",
              "      <td>777597</td>\n",
              "      <td>EMERGENCIA</td>\n",
              "      <td>SERENAZGO ESPECIALISTA (CHOFER)</td>\n",
              "      <td>NO</td>\n",
              "      <td>SERENAZGO</td>\n",
              "      <td>ACCIDENTES</td>\n",
              "      <td>ACCIDENTES POR OCURRENCIA</td>\n",
              "      <td>AMAGO DE INCENDIO</td>\n",
              "      <td>...</td>\n",
              "      <td>-11.978916</td>\n",
              "      <td>-77.020282</td>\n",
              "      <td>VILLA LOS REYES</td>\n",
              "      <td>PARQUE</td>\n",
              "      <td>CERRADA</td>\n",
              "      <td>CALLAO</td>\n",
              "      <td>CALLAO</td>\n",
              "      <td>VENTANILLA</td>\n",
              "      <td>-11.978916</td>\n",
              "      <td>20220630.0</td>\n",
              "    </tr>\n",
              "    <tr>\n",
              "      <th>1</th>\n",
              "      <td>805250</td>\n",
              "      <td>REGMAN01</td>\n",
              "      <td>777598</td>\n",
              "      <td>EMERGENCIA</td>\n",
              "      <td>SERENAZGO ESPECIALISTA (CHOFER)</td>\n",
              "      <td>NO</td>\n",
              "      <td>SERENAZGO</td>\n",
              "      <td>APOYO DIVERSO AL CONTRIBUYENTE</td>\n",
              "      <td>PERSONAS DESAPARECIDAS</td>\n",
              "      <td>UBICADOS</td>\n",
              "      <td>...</td>\n",
              "      <td>-11.834015</td>\n",
              "      <td>-77.125754</td>\n",
              "      <td>VILLA LOS REYES</td>\n",
              "      <td>Mercado El Tr&amp;eacute;bol</td>\n",
              "      <td>CERRADA</td>\n",
              "      <td>CALLAO</td>\n",
              "      <td>CALLAO</td>\n",
              "      <td>VENTANILLA</td>\n",
              "      <td>70106.000000</td>\n",
              "      <td>20220630.0</td>\n",
              "    </tr>\n",
              "    <tr>\n",
              "      <th>2</th>\n",
              "      <td>805251</td>\n",
              "      <td>REGMAN01</td>\n",
              "      <td>777599</td>\n",
              "      <td>EMERGENCIA</td>\n",
              "      <td>SERENAZGO A PIE</td>\n",
              "      <td>NO</td>\n",
              "      <td>SERENAZGO</td>\n",
              "      <td>DISPERSADOS</td>\n",
              "      <td>CONSUMIDORES DE ALCOHOL</td>\n",
              "      <td>NaN</td>\n",
              "      <td>...</td>\n",
              "      <td>-11.887520</td>\n",
              "      <td>-77.126196</td>\n",
              "      <td>VENTANILLA</td>\n",
              "      <td>Boulevard Grau</td>\n",
              "      <td>CERRADA</td>\n",
              "      <td>CALLAO</td>\n",
              "      <td>CALLAO</td>\n",
              "      <td>VENTANILLA</td>\n",
              "      <td>70106.000000</td>\n",
              "      <td>20220630.0</td>\n",
              "    </tr>\n",
              "    <tr>\n",
              "      <th>3</th>\n",
              "      <td>805252</td>\n",
              "      <td>REGMAN01</td>\n",
              "      <td>777600</td>\n",
              "      <td>EMERGENCIA</td>\n",
              "      <td>SERENAZGO ESPECIALISTA (CHOFER)</td>\n",
              "      <td>NO</td>\n",
              "      <td>SERENAZGO</td>\n",
              "      <td>ACCIDENTES</td>\n",
              "      <td>ACCIDENTES POR OCURRENCIA</td>\n",
              "      <td>INCENDIO</td>\n",
              "      <td>...</td>\n",
              "      <td>-11.893748</td>\n",
              "      <td>-77.127466</td>\n",
              "      <td>VENTANILLA</td>\n",
              "      <td>Mza. J16 lote 3</td>\n",
              "      <td>CERRADA</td>\n",
              "      <td>CALLAO</td>\n",
              "      <td>CALLAO</td>\n",
              "      <td>VENTANILLA</td>\n",
              "      <td>70106.000000</td>\n",
              "      <td>20220630.0</td>\n",
              "    </tr>\n",
              "    <tr>\n",
              "      <th>4</th>\n",
              "      <td>805253</td>\n",
              "      <td>REGMAN01</td>\n",
              "      <td>777601</td>\n",
              "      <td>EMERGENCIA</td>\n",
              "      <td>SERENAZGO ESPECIALISTA (CHOFER)</td>\n",
              "      <td>NO</td>\n",
              "      <td>SERENAZGO</td>\n",
              "      <td>DELITOS</td>\n",
              "      <td>CONTRA EL PATRIMONIO</td>\n",
              "      <td>ROBO</td>\n",
              "      <td>...</td>\n",
              "      <td>-11.834120</td>\n",
              "      <td>-77.164783</td>\n",
              "      <td>PACHACUTEC</td>\n",
              "      <td>av. 225  paradero reniec</td>\n",
              "      <td>CERRADA</td>\n",
              "      <td>CALLAO</td>\n",
              "      <td>CALLAO</td>\n",
              "      <td>VENTANILLA</td>\n",
              "      <td>70106.000000</td>\n",
              "      <td>20220630.0</td>\n",
              "    </tr>\n",
              "  </tbody>\n",
              "</table>\n",
              "<p>5 rows × 39 columns</p>\n",
              "</div>\n",
              "      <button class=\"colab-df-convert\" onclick=\"convertToInteractive('df-900d5cbb-6e40-4837-b387-dd7372c077b4')\"\n",
              "              title=\"Convert this dataframe to an interactive table.\"\n",
              "              style=\"display:none;\">\n",
              "        \n",
              "  <svg xmlns=\"http://www.w3.org/2000/svg\" height=\"24px\"viewBox=\"0 0 24 24\"\n",
              "       width=\"24px\">\n",
              "    <path d=\"M0 0h24v24H0V0z\" fill=\"none\"/>\n",
              "    <path d=\"M18.56 5.44l.94 2.06.94-2.06 2.06-.94-2.06-.94-.94-2.06-.94 2.06-2.06.94zm-11 1L8.5 8.5l.94-2.06 2.06-.94-2.06-.94L8.5 2.5l-.94 2.06-2.06.94zm10 10l.94 2.06.94-2.06 2.06-.94-2.06-.94-.94-2.06-.94 2.06-2.06.94z\"/><path d=\"M17.41 7.96l-1.37-1.37c-.4-.4-.92-.59-1.43-.59-.52 0-1.04.2-1.43.59L10.3 9.45l-7.72 7.72c-.78.78-.78 2.05 0 2.83L4 21.41c.39.39.9.59 1.41.59.51 0 1.02-.2 1.41-.59l7.78-7.78 2.81-2.81c.8-.78.8-2.07 0-2.86zM5.41 20L4 18.59l7.72-7.72 1.47 1.35L5.41 20z\"/>\n",
              "  </svg>\n",
              "      </button>\n",
              "      \n",
              "  <style>\n",
              "    .colab-df-container {\n",
              "      display:flex;\n",
              "      flex-wrap:wrap;\n",
              "      gap: 12px;\n",
              "    }\n",
              "\n",
              "    .colab-df-convert {\n",
              "      background-color: #E8F0FE;\n",
              "      border: none;\n",
              "      border-radius: 50%;\n",
              "      cursor: pointer;\n",
              "      display: none;\n",
              "      fill: #1967D2;\n",
              "      height: 32px;\n",
              "      padding: 0 0 0 0;\n",
              "      width: 32px;\n",
              "    }\n",
              "\n",
              "    .colab-df-convert:hover {\n",
              "      background-color: #E2EBFA;\n",
              "      box-shadow: 0px 1px 2px rgba(60, 64, 67, 0.3), 0px 1px 3px 1px rgba(60, 64, 67, 0.15);\n",
              "      fill: #174EA6;\n",
              "    }\n",
              "\n",
              "    [theme=dark] .colab-df-convert {\n",
              "      background-color: #3B4455;\n",
              "      fill: #D2E3FC;\n",
              "    }\n",
              "\n",
              "    [theme=dark] .colab-df-convert:hover {\n",
              "      background-color: #434B5C;\n",
              "      box-shadow: 0px 1px 3px 1px rgba(0, 0, 0, 0.15);\n",
              "      filter: drop-shadow(0px 1px 2px rgba(0, 0, 0, 0.3));\n",
              "      fill: #FFFFFF;\n",
              "    }\n",
              "  </style>\n",
              "\n",
              "      <script>\n",
              "        const buttonEl =\n",
              "          document.querySelector('#df-900d5cbb-6e40-4837-b387-dd7372c077b4 button.colab-df-convert');\n",
              "        buttonEl.style.display =\n",
              "          google.colab.kernel.accessAllowed ? 'block' : 'none';\n",
              "\n",
              "        async function convertToInteractive(key) {\n",
              "          const element = document.querySelector('#df-900d5cbb-6e40-4837-b387-dd7372c077b4');\n",
              "          const dataTable =\n",
              "            await google.colab.kernel.invokeFunction('convertToInteractive',\n",
              "                                                     [key], {});\n",
              "          if (!dataTable) return;\n",
              "\n",
              "          const docLinkHtml = 'Like what you see? Visit the ' +\n",
              "            '<a target=\"_blank\" href=https://colab.research.google.com/notebooks/data_table.ipynb>data table notebook</a>'\n",
              "            + ' to learn more about interactive tables.';\n",
              "          element.innerHTML = '';\n",
              "          dataTable['output_type'] = 'display_data';\n",
              "          await google.colab.output.renderOutput(dataTable, element);\n",
              "          const docLink = document.createElement('div');\n",
              "          docLink.innerHTML = docLinkHtml;\n",
              "          element.appendChild(docLink);\n",
              "        }\n",
              "      </script>\n",
              "    </div>\n",
              "  </div>\n",
              "  "
            ]
          },
          "metadata": {},
          "execution_count": 14
        }
      ],
      "source": [
        "import pandas as pd\n",
        "\n",
        "#df = pd.read_csv(\"DATASET.csv\")\n",
        "df = pd.read_csv('DataSet.csv', on_bad_lines='skip', sep = ',')\n",
        "\n",
        "df.head()\n",
        "\n"
      ]
    },
    {
      "cell_type": "code",
      "source": [],
      "metadata": {
        "id": "DsvMqWqf57No"
      },
      "execution_count": null,
      "outputs": []
    },
    {
      "cell_type": "code",
      "source": [
        "import matplotlib.pyplot as plt\n",
        "plt.scatter(x=df['LONGITUDE'], y=df['LATITUDE'])\n",
        "plt.show()"
      ],
      "metadata": {
        "colab": {
          "base_uri": "https://localhost:8080/",
          "height": 265
        },
        "id": "h0woRYQm6LRP",
        "outputId": "41f944a7-6595-41d4-d0b6-f95f4e497745"
      },
      "execution_count": null,
      "outputs": [
        {
          "output_type": "display_data",
          "data": {
            "text/plain": [
              "<Figure size 432x288 with 1 Axes>"
            ],
            "image/png": "[encoded data removed]"
          },
          "metadata": {
            "needs_background": "light"
          }
        }
      ]
    },
    {
      "cell_type": "code",
      "source": [
        "import pandas as pd\n",
        "from shapely.geometry import Point\n",
        "import geopandas as gpd\n",
        "from geopandas import GeoDataFrame\n",
        "\n",
        "geometry = [Point(xy) for xy in zip(df['LONGITUDE'], df['LATITUDE'])]\n",
        "gdf = GeoDataFrame(df, geometry=geometry)   \n",
        "\n",
        "#this is a simple map that goes with geopandas\n",
        "world = gpd.read_file(gpd.datasets.get_path('lima_callao_distritos.geojson'))\n",
        "gdf.plot(ax=world.plot(figsize=(50, 10)), marker='o', color='red', markersize=15);"
      ],
      "metadata": {
        "colab": {
          "base_uri": "https://localhost:8080/",
          "height": 304
        },
        "id": "QfgX08zL-d_V",
        "outputId": "96ab0eb9-8447-4f9a-cbeb-c6ed857d4c9a"
      },
      "execution_count": null,
      "outputs": [
        {
          "output_type": "error",
          "ename": "ValueError",
          "evalue": "ignored",
          "traceback": [
            "\u001b[0;31m---------------------------------------------------------------------------\u001b[0m",
            "\u001b[0;31mValueError\u001b[0m                                Traceback (most recent call last)",
            "\u001b[0;32m<ipython-input-20-1d730666c25d>\u001b[0m in \u001b[0;36m<module>\u001b[0;34m\u001b[0m\n\u001b[1;32m      8\u001b[0m \u001b[0;34m\u001b[0m\u001b[0m\n\u001b[1;32m      9\u001b[0m \u001b[0;31m#this is a simple map that goes with geopandas\u001b[0m\u001b[0;34m\u001b[0m\u001b[0;34m\u001b[0m\u001b[0;34m\u001b[0m\u001b[0m\n\u001b[0;32m---> 10\u001b[0;31m \u001b[0mworld\u001b[0m \u001b[0;34m=\u001b[0m \u001b[0mgpd\u001b[0m\u001b[0;34m.\u001b[0m\u001b[0mread_file\u001b[0m\u001b[0;34m(\u001b[0m\u001b[0mgpd\u001b[0m\u001b[0;34m.\u001b[0m\u001b[0mdatasets\u001b[0m\u001b[0;34m.\u001b[0m\u001b[0mget_path\u001b[0m\u001b[0;34m(\u001b[0m\u001b[0;34m'lima_callao_distritos.geojson'\u001b[0m\u001b[0;34m)\u001b[0m\u001b[0;34m)\u001b[0m\u001b[0;34m\u001b[0m\u001b[0;34m\u001b[0m\u001b[0m\n\u001b[0m\u001b[1;32m     11\u001b[0m \u001b[0mgdf\u001b[0m\u001b[0;34m.\u001b[0m\u001b[0mplot\u001b[0m\u001b[0;34m(\u001b[0m\u001b[0max\u001b[0m\u001b[0;34m=\u001b[0m\u001b[0mworld\u001b[0m\u001b[0;34m.\u001b[0m\u001b[0mplot\u001b[0m\u001b[0;34m(\u001b[0m\u001b[0mfigsize\u001b[0m\u001b[0;34m=\u001b[0m\u001b[0;34m(\u001b[0m\u001b[0;36m50\u001b[0m\u001b[0;34m,\u001b[0m \u001b[0;36m10\u001b[0m\u001b[0;34m)\u001b[0m\u001b[0;34m)\u001b[0m\u001b[0;34m,\u001b[0m \u001b[0mmarker\u001b[0m\u001b[0;34m=\u001b[0m\u001b[0;34m'o'\u001b[0m\u001b[0;34m,\u001b[0m \u001b[0mcolor\u001b[0m\u001b[0;34m=\u001b[0m\u001b[0;34m'red'\u001b[0m\u001b[0;34m,\u001b[0m \u001b[0mmarkersize\u001b[0m\u001b[0;34m=\u001b[0m\u001b[0;36m15\u001b[0m\u001b[0;34m)\u001b[0m\u001b[0;34m;\u001b[0m\u001b[0;34m\u001b[0m\u001b[0;34m\u001b[0m\u001b[0m\n",
            "\u001b[0;32m/usr/local/lib/python3.8/dist-packages/geopandas/datasets/__init__.py\u001b[0m in \u001b[0;36mget_path\u001b[0;34m(dataset)\u001b[0m\n\u001b[1;32m     34\u001b[0m         \u001b[0mmsg\u001b[0m \u001b[0;34m=\u001b[0m \u001b[0;34m\"The dataset '{data}' is not available. \"\u001b[0m\u001b[0;34m.\u001b[0m\u001b[0mformat\u001b[0m\u001b[0;34m(\u001b[0m\u001b[0mdata\u001b[0m\u001b[0;34m=\u001b[0m\u001b[0mdataset\u001b[0m\u001b[0;34m)\u001b[0m\u001b[0;34m\u001b[0m\u001b[0;34m\u001b[0m\u001b[0m\n\u001b[1;32m     35\u001b[0m         \u001b[0mmsg\u001b[0m \u001b[0;34m+=\u001b[0m \u001b[0;34m\"Available datasets are {}\"\u001b[0m\u001b[0;34m.\u001b[0m\u001b[0mformat\u001b[0m\u001b[0;34m(\u001b[0m\u001b[0;34m\", \"\u001b[0m\u001b[0;34m.\u001b[0m\u001b[0mjoin\u001b[0m\u001b[0;34m(\u001b[0m\u001b[0mavailable\u001b[0m\u001b[0;34m)\u001b[0m\u001b[0;34m)\u001b[0m\u001b[0;34m\u001b[0m\u001b[0;34m\u001b[0m\u001b[0m\n\u001b[0;32m---> 36\u001b[0;31m         \u001b[0;32mraise\u001b[0m \u001b[0mValueError\u001b[0m\u001b[0;34m(\u001b[0m\u001b[0mmsg\u001b[0m\u001b[0;34m)\u001b[0m\u001b[0;34m\u001b[0m\u001b[0;34m\u001b[0m\u001b[0m\n\u001b[0m",
            "\u001b[0;31mValueError\u001b[0m: The dataset 'lima_callao_distritos.geojson' is not available. Available datasets are naturalearth_lowres, naturalearth_cities, nybb"
          ]
        }
      ]
    },
    {
      "cell_type": "code",
      "source": [
        "!"
      ],
      "metadata": {
        "id": "1UTbbHIeClb7"
      },
      "execution_count": null,
      "outputs": []
    },
    {
      "cell_type": "code",
      "source": [
        "import geojson\n",
        "from descartes import PolygonPatch\n",
        "import matplotlib.pyplot as plt\n",
        "from mpl_toolkits.basemap import Basemap\n",
        "import numpy as np\n",
        " \n",
        "with open(\"aez-w-greenland.geojson\") as json_file:\n",
        "    json_data = geojson.load(json_file)\n",
        "    "
      ],
      "metadata": {
        "colab": {
          "base_uri": "https://localhost:8080/",
          "height": 373
        },
        "id": "TjemjVQlCjMa",
        "outputId": "27f889a3-2864-405a-e41f-6ede78022c87"
      },
      "execution_count": null,
      "outputs": [
        {
          "output_type": "error",
          "ename": "ModuleNotFoundError",
          "evalue": "ignored",
          "traceback": [
            "\u001b[0;31m---------------------------------------------------------------------------\u001b[0m",
            "\u001b[0;31mModuleNotFoundError\u001b[0m                       Traceback (most recent call last)",
            "\u001b[0;32m<ipython-input-21-082e5e69b7d9>\u001b[0m in \u001b[0;36m<module>\u001b[0;34m\u001b[0m\n\u001b[0;32m----> 1\u001b[0;31m \u001b[0;32mimport\u001b[0m \u001b[0mgeojson\u001b[0m\u001b[0;34m\u001b[0m\u001b[0;34m\u001b[0m\u001b[0m\n\u001b[0m\u001b[1;32m      2\u001b[0m \u001b[0;32mfrom\u001b[0m \u001b[0mdescartes\u001b[0m \u001b[0;32mimport\u001b[0m \u001b[0mPolygonPatch\u001b[0m\u001b[0;34m\u001b[0m\u001b[0;34m\u001b[0m\u001b[0m\n\u001b[1;32m      3\u001b[0m \u001b[0;32mimport\u001b[0m \u001b[0mmatplotlib\u001b[0m\u001b[0;34m.\u001b[0m\u001b[0mpyplot\u001b[0m \u001b[0;32mas\u001b[0m \u001b[0mplt\u001b[0m\u001b[0;34m\u001b[0m\u001b[0;34m\u001b[0m\u001b[0m\n\u001b[1;32m      4\u001b[0m \u001b[0;32mfrom\u001b[0m \u001b[0mmpl_toolkits\u001b[0m\u001b[0;34m.\u001b[0m\u001b[0mbasemap\u001b[0m \u001b[0;32mimport\u001b[0m \u001b[0mBasemap\u001b[0m\u001b[0;34m\u001b[0m\u001b[0;34m\u001b[0m\u001b[0m\n\u001b[1;32m      5\u001b[0m \u001b[0;32mimport\u001b[0m \u001b[0mnumpy\u001b[0m \u001b[0;32mas\u001b[0m \u001b[0mnp\u001b[0m\u001b[0;34m\u001b[0m\u001b[0;34m\u001b[0m\u001b[0m\n",
            "\u001b[0;31mModuleNotFoundError\u001b[0m: No module named 'geojson'",
            "",
            "\u001b[0;31m---------------------------------------------------------------------------\u001b[0;32m\nNOTE: If your import is failing due to a missing package, you can\nmanually install dependencies using either !pip or !apt.\n\nTo view examples of installing some common dependencies, click the\n\"Open Examples\" button below.\n\u001b[0;31m---------------------------------------------------------------------------\u001b[0m\n"
          ],
          "errorDetails": {
            "actions": [
              {
                "action": "open_url",
                "actionText": "Open Examples",
                "url": "/notebooks/snippets/importing_libraries.ipynb"
              }
            ]
          }
        }
      ]
    },
    {
      "cell_type": "code",
      "source": [
        "plt.clf()\n",
        "ax = plt.figure(figsize=(10,10)).add_subplot(111)#fig.gca()\n",
        " \n",
        "m = Basemap(projection='robin', lon_0=0,resolution='c')\n",
        "m.drawmapboundary(fill_color='white', zorder=-1)\n",
        "m.drawparallels(np.arange(-90.,91.,30.), labels=[1,0,0,1], dashes=[1,1], linewidth=0.25, color='0.5',fontsize=14)\n",
        "m.drawmeridians(np.arange(0., 360., 60.), labels=[1,0,0,1], dashes=[1,1], linewidth=0.25, color='0.5',fontsize=14)\n",
        "m.drawcoastlines(color='0.6', linewidth=1)"
      ],
      "metadata": {
        "id": "s0vd9-FaCqVH"
      },
      "execution_count": null,
      "outputs": []
    },
    {
      "cell_type": "code",
      "source": [
        "for i in range(2799):\n",
        "    coordlist = json_data.features[i]['geometry']['coordinates'][0]\n",
        "    if i < 2796:\n",
        "        name = json_data.features[i]['properties']['CTRYNAME']\n",
        "        aez =  json_data.features[i]['properties']['AEZ']\n",
        " \n",
        "    for j in range(len(coordlist)):\n",
        "        for k in range(len(coordlist[j])):\n",
        "            coordlist[j][k][0],coordlist[j][k][1]=m(coordlist[j][k][0],coordlist[j][k][1])\n",
        " \n",
        "    poly = {\"type\":\"Polygon\",\"coordinates\":coordlist}#coordlist\n",
        "    ax.add_patch(PolygonPatch(poly, fc=[0,0.5,0], ec=[0,0.3,0], zorder=0.2 ))\n",
        " \n",
        "ax.axis('scaled')\n",
        "plt.draw()\n",
        "plt.show()\n"
      ],
      "metadata": {
        "id": "zzDmn7WECuCH"
      },
      "execution_count": null,
      "outputs": []
    }
  ]
}